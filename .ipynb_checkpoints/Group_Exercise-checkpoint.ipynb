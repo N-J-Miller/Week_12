{
 "cells": [
  {
   "cell_type": "markdown",
   "id": "73986ad1",
   "metadata": {},
   "source": [
    "# Week 12 Group Exercise"
   ]
  },
  {
   "cell_type": "markdown",
   "id": "e85a9152",
   "metadata": {},
   "source": [
    "1. Write a lambda function to rearrange positive and negative numbers in a\n",
    "given list\n",
    "Sample output:\n",
    "original_list = [-1,2,-3,4,-5,6,-7,8,-9,10,-11,12]\n",
    "resulting_list = [2,4,6,8,10,12,-11,-9,-7,-5,-3,-1]\n",
    "2. Create a new dataframe using week_11/temperatures/temperature.csv file\n",
    "from last class. It should have the datetime column and one of the cities.\n",
    "Create a new boolean column called is_freezing that indicates if the\n",
    "temperature is at or below freezing. Use a lambda to create this column. Is\n",
    "there a better way to do this than with a lambda?\n",
    "3. BONUS: if you still have time, try to do a pivot of the data in question 2 so\n",
    "you have the hourly data for all the cities and a flag for if it's freezing"
   ]
  },
  {
   "cell_type": "code",
   "execution_count": 1,
   "id": "810a462a",
   "metadata": {},
   "outputs": [
    {
     "data": {
      "text/html": [
       "<div>\n",
       "<style scoped>\n",
       "    .dataframe tbody tr th:only-of-type {\n",
       "        vertical-align: middle;\n",
       "    }\n",
       "\n",
       "    .dataframe tbody tr th {\n",
       "        vertical-align: top;\n",
       "    }\n",
       "\n",
       "    .dataframe thead th {\n",
       "        text-align: right;\n",
       "    }\n",
       "</style>\n",
       "<table border=\"1\" class=\"dataframe\">\n",
       "  <thead>\n",
       "    <tr style=\"text-align: right;\">\n",
       "      <th></th>\n",
       "      <th>datetime</th>\n",
       "      <th>Vancouver</th>\n",
       "      <th>Portland</th>\n",
       "      <th>San Francisco</th>\n",
       "      <th>Seattle</th>\n",
       "      <th>Los Angeles</th>\n",
       "      <th>San Diego</th>\n",
       "      <th>Las Vegas</th>\n",
       "      <th>Phoenix</th>\n",
       "      <th>Albuquerque</th>\n",
       "      <th>...</th>\n",
       "      <th>Philadelphia</th>\n",
       "      <th>New York</th>\n",
       "      <th>Montreal</th>\n",
       "      <th>Boston</th>\n",
       "      <th>Beersheba</th>\n",
       "      <th>Tel Aviv District</th>\n",
       "      <th>Eilat</th>\n",
       "      <th>Haifa</th>\n",
       "      <th>Nahariyya</th>\n",
       "      <th>Jerusalem</th>\n",
       "    </tr>\n",
       "  </thead>\n",
       "  <tbody>\n",
       "    <tr>\n",
       "      <th>0</th>\n",
       "      <td>10/1/2012 12:00</td>\n",
       "      <td>NaN</td>\n",
       "      <td>NaN</td>\n",
       "      <td>NaN</td>\n",
       "      <td>NaN</td>\n",
       "      <td>NaN</td>\n",
       "      <td>NaN</td>\n",
       "      <td>NaN</td>\n",
       "      <td>NaN</td>\n",
       "      <td>NaN</td>\n",
       "      <td>...</td>\n",
       "      <td>NaN</td>\n",
       "      <td>NaN</td>\n",
       "      <td>NaN</td>\n",
       "      <td>NaN</td>\n",
       "      <td>NaN</td>\n",
       "      <td>NaN</td>\n",
       "      <td>309.1</td>\n",
       "      <td>NaN</td>\n",
       "      <td>NaN</td>\n",
       "      <td>NaN</td>\n",
       "    </tr>\n",
       "  </tbody>\n",
       "</table>\n",
       "<p>1 rows × 37 columns</p>\n",
       "</div>"
      ],
      "text/plain": [
       "          datetime  Vancouver  Portland  San Francisco  Seattle  Los Angeles  \\\n",
       "0  10/1/2012 12:00        NaN       NaN            NaN      NaN          NaN   \n",
       "\n",
       "   San Diego  Las Vegas  Phoenix  Albuquerque  ...  Philadelphia  New York  \\\n",
       "0        NaN        NaN      NaN          NaN  ...           NaN       NaN   \n",
       "\n",
       "   Montreal  Boston  Beersheba  Tel Aviv District  Eilat  Haifa  Nahariyya  \\\n",
       "0       NaN     NaN        NaN                NaN  309.1    NaN        NaN   \n",
       "\n",
       "   Jerusalem  \n",
       "0        NaN  \n",
       "\n",
       "[1 rows x 37 columns]"
      ]
     },
     "execution_count": 1,
     "metadata": {},
     "output_type": "execute_result"
    }
   ],
   "source": [
    "# Dependencies and modules:\n",
    "\n",
    "import matplotlib.pyplot as plt\n",
    "import pandas as pd\n",
    "import numpy as np\n",
    "import requests\n",
    "import time\n",
    "from pprint import pprint\n",
    "import seaborn as sns\n",
    "sns.set_theme(style=\"whitegrid\")\n",
    "import statistics\n",
    "import math\n",
    "from scipy import stats\n",
    " \n",
    "\n",
    "# temperature.csv file:\n",
    "\n",
    "temperature_path = \"C:/Users/Nik/Documents/temperature.csv\"\n",
    "temperature_df = pd.read_csv(temperature_path)\n",
    "temperature_df.head(1)"
   ]
  },
  {
   "cell_type": "code",
   "execution_count": null,
   "id": "ebf11d6f",
   "metadata": {},
   "outputs": [],
   "source": []
  }
 ],
 "metadata": {
  "kernelspec": {
   "display_name": "Python 3 (ipykernel)",
   "language": "python",
   "name": "python3"
  },
  "language_info": {
   "codemirror_mode": {
    "name": "ipython",
    "version": 3
   },
   "file_extension": ".py",
   "mimetype": "text/x-python",
   "name": "python",
   "nbconvert_exporter": "python",
   "pygments_lexer": "ipython3",
   "version": "3.9.7"
  }
 },
 "nbformat": 4,
 "nbformat_minor": 5
}
